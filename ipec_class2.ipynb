{
 "cells": [
  {
   "cell_type": "code",
   "execution_count": 2,
   "id": "b2f0ff9d",
   "metadata": {},
   "outputs": [],
   "source": [
    "#txt file read,write & append\n",
    "with open(\"file.txt\",\"w\") as f:\n",
    "    f.write(\"Banglaore\")\n",
    "    f.close()"
   ]
  },
  {
   "cell_type": "code",
   "execution_count": 3,
   "id": "194c38e0",
   "metadata": {},
   "outputs": [
    {
     "data": {
      "text/plain": [
       "'Banglaore'"
      ]
     },
     "execution_count": 3,
     "metadata": {},
     "output_type": "execute_result"
    }
   ],
   "source": [
    "f =open(\"file.txt\",\"r\")\n",
    "f.read()"
   ]
  },
  {
   "cell_type": "raw",
   "id": "675bd206",
   "metadata": {},
   "source": [
    "import pandas as pd #pandas can handled about 5lakhs of rows\n",
    "df=pd.read_csv(\"file location \",encoding=\"utf-8\",nrows=1000)"
   ]
  },
  {
   "cell_type": "raw",
   "id": "4e79e9eb",
   "metadata": {},
   "source": [
    "df.shape\n",
    "df.head()"
   ]
  },
  {
   "cell_type": "code",
   "execution_count": null,
   "id": "ee680b4d",
   "metadata": {},
   "outputs": [],
   "source": [
    "from PyPDF2 import PdfFileReader\n",
    "pdf_document=\"Gmail.pdf\"\n",
    "with open(pdf_document,\"rb\")"
   ]
  },
  {
   "cell_type": "code",
   "execution_count": null,
   "id": "6877d536",
   "metadata": {},
   "outputs": [],
   "source": [
    "\n",
    "import requests\n",
    "import os\n",
    "from bs4 import BeautifulSoup\n",
    "#set the url of the first XXCD comic\n",
    "url=\"https://xlcd.com/1/\"\n",
    "\n",
    "#create a folder to store the comics\n",
    "if not os.path.exist(\"xkcd_comics1\"):\n",
    "    os.mkedirs(\"xkcd_comics1\")"
   ]
  }
 ],
 "metadata": {
  "kernelspec": {
   "display_name": "Python 3 (ipykernel)",
   "language": "python",
   "name": "python3"
  },
  "language_info": {
   "codemirror_mode": {
    "name": "ipython",
    "version": 3
   },
   "file_extension": ".py",
   "mimetype": "text/x-python",
   "name": "python",
   "nbconvert_exporter": "python",
   "pygments_lexer": "ipython3",
   "version": "3.11.4"
  }
 },
 "nbformat": 4,
 "nbformat_minor": 5
}
